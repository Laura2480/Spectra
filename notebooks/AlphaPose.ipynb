{
 "cells": [
  {
   "cell_type": "markdown",
   "metadata": {
    "id": "ZMUdgWmTFWEs"
   },
   "source": [
    "# Pose Detection with AlphaPhose\n",
    "\n",
    "This notebook uses an open source project [MVIG-SJTU/AlphaPose](https://github.com/MVIG-SJTU/AlphaPose) to detect/track multi person poses on a given youtube video.\n",
    "\n",
    "For other deep-learning Colab notebooks, visit [tugstugi/dl-colab-notebooks](https://github.com/tugstugi/dl-colab-notebooks).\n",
    "\n",
    "\n",
    "## Install AlphaPose"
   ]
  },
  {
   "cell_type": "code",
   "metadata": {
    "execution": {
     "iopub.execute_input": "2024-03-25T19:33:38.724248Z",
     "iopub.status.busy": "2024-03-25T19:33:38.723715Z",
     "iopub.status.idle": "2024-03-25T19:33:41.363027Z",
     "shell.execute_reply": "2024-03-25T19:33:41.361823Z",
     "shell.execute_reply.started": "2024-03-25T19:33:38.724218Z"
    },
    "ExecuteTime": {
     "end_time": "2025-01-10T22:13:29.921194Z",
     "start_time": "2025-01-10T22:13:27.451348Z"
    }
   },
   "source": [
    "import torch\n",
    "import os\n",
    "from os.path import exists, join\n",
    "from pathlib import Path\n",
    "import subprocess\n",
    "from pathlib import Path\n",
    "import sys\n",
    "import threading\n",
    "import torchvision\n",
    "\n",
    "print(torch.__version__)\n",
    "print(torch.__version__)\n",
    "\n",
    "import sys\n",
    "python_executable = sys.executable\n",
    "print(f\"Python eseguibile: {python_executable}\")"
   ],
   "outputs": [
    {
     "name": "stdout",
     "output_type": "stream",
     "text": [
      "2.5.1+cu124\n",
      "2.5.1+cu124\n",
      "Python eseguibile: C:\\Users\\ldesa\\Desktop\\Spectra\\motion\\.venv\\Scripts\\python.exe\n"
     ]
    }
   ],
   "execution_count": 1
  },
  {
   "metadata": {
    "ExecuteTime": {
     "end_time": "2025-01-10T22:13:29.936828Z",
     "start_time": "2025-01-10T22:13:29.922110Z"
    }
   },
   "cell_type": "code",
   "source": [
    "project_path=os.path.join(os.path.realpath('../src/'))\n",
    "scripts_path=os.path.join(os.path.realpath('../src/'),'scripts')\n",
    "script_path=os.path.join(scripts_path,'alphapose_inference.py')\n",
    "\n",
    "data_path=os.path.join(os.path.realpath('../data/'))\n",
    "test_path=join(data_path,'test')\n",
    "\n",
    "input_path=join(test_path,'samples')\n",
    "output_path=join(test_path,'2D')\n",
    "\n",
    "print(script_path)\n",
    "print(input_path)\n",
    "print(output_path)"
   ],
   "outputs": [
    {
     "name": "stdout",
     "output_type": "stream",
     "text": [
      "C:\\Users\\ldesa\\Desktop\\Spectra\\motion\\src\\scripts\\alphapose_inference.py\n",
      "C:\\Users\\ldesa\\Desktop\\Spectra\\motion\\data\\test\\samples\n",
      "C:\\Users\\ldesa\\Desktop\\Spectra\\motion\\data\\test\\2D\n"
     ]
    }
   ],
   "execution_count": 2
  },
  {
   "cell_type": "markdown",
   "metadata": {
    "id": "fMJI7RgmF_xO"
   },
   "source": "## Detect poses on a test images\n"
  },
  {
   "metadata": {
    "ExecuteTime": {
     "end_time": "2025-01-10T22:13:29.952037Z",
     "start_time": "2025-01-10T22:13:29.937822Z"
    }
   },
   "cell_type": "code",
   "source": "Path(\"C:/Users/ldesa/Desktop/Spectra/motion/data/test/samples/es10_t.mp4\").exists()",
   "outputs": [
    {
     "data": {
      "text/plain": [
       "True"
      ]
     },
     "execution_count": 3,
     "metadata": {},
     "output_type": "execute_result"
    }
   ],
   "execution_count": 3
  },
  {
   "metadata": {
    "ExecuteTime": {
     "end_time": "2025-01-10T22:14:07.993510Z",
     "start_time": "2025-01-10T22:13:29.953033Z"
    }
   },
   "cell_type": "code",
   "source": [
    "# Configurazioni\n",
    "config_file = \"configs/halpe_coco_wholebody_136/resnet/256x192_res50_lr1e-3_2x-dcn-combined.yaml\"\n",
    "checkpoint = \"pretrained_models/multi_domain_fast50_dcn_combined_256x192.pth\"\n",
    "\n",
    "# Crea la cartella di output se non esiste\n",
    "Path(output_path).mkdir(parents=True, exist_ok=True)\n",
    "\n",
    "# Trova tutti i file video nella cartella di input\n",
    "video_files = [f for f in Path(input_path).glob(\"*\") if f.suffix in [\".mp4\", \".avi\", \".mov\", \".mkv\"]]\n",
    "\n",
    "# Loop per processare ciascun video\n",
    "for video_file in video_files:\n",
    "    print(video_file)\n",
    "    # Nome del file senza estensione per la cartella di output\n",
    "    video_name = video_file.stem\n",
    "    video_output_dir = Path(output_path) / video_name\n",
    "    \n",
    "    # Crea la cartella di output per il video\n",
    "    video_output_dir.mkdir(parents=True, exist_ok=True)\n",
    "    \n",
    "    # Comando per processare il video\n",
    "    command = [\n",
    "        python_executable, script_path,\n",
    "        \"--cfg\", config_file,\n",
    "        \"--checkpoint\", checkpoint,\n",
    "        \"--video\", str(video_file),\n",
    "        \"--outdir\", str(video_output_dir),\n",
    "        \"--save_img\",\n",
    "        \"--save_video\",\n",
    "        \"--pose_track\"\n",
    "    ]\n",
    "\n",
    "    # Avvia il processo\n",
    "    with subprocess.Popen(\n",
    "        command,\n",
    "        stdout=subprocess.PIPE,\n",
    "        stderr=subprocess.STDOUT,\n",
    "        bufsize=1,\n",
    "        text=True,  # Equivalent to universal_newlines=True in Python 3.7+\n",
    "        cwd=str(project_path)\n",
    "    ) as process:\n",
    "        # Itera sull'output in tempo reale\n",
    "        for line in process.stdout:\n",
    "            print(line, end='')  # Stampa ogni linea man mano che viene ricevuta\n",
    "\n",
    "    # Verifica il codice di ritorno\n",
    "    if process.returncode == 0:\n",
    "        print(f\"\\nComando eseguito con successo per {video_file}.\\n\")\n",
    "    else:\n",
    "        print(f\"\\nErrore nell'esecuzione del comando per {video_file}. Codice di errore: {process.returncode}\\n\")\n",
    "    break\n",
    "\n",
    "print(\"Elaborazione completata!\")\n"
   ],
   "outputs": [
    {
     "name": "stdout",
     "output_type": "stream",
     "text": [
      "C:\\Users\\ldesa\\Desktop\\Spectra\\motion\\data\\test\\samples\\es10_t.mp4\n",
      "2025-01-10 23:13:32 [DEBUG]: Loaded backend agg version v2.2.\n",
      "2025-01-10 23:13:34 [DEBUG]: Loaded backend Agg version v2.2.\n",
      "OpenCV: FFMPEG: tag 0x34363268/'h264' is not supported with codec id 27 and format 'mp4 / MP4 (MPEG-4 Part 14)'\n",
      "OpenCV: FFMPEG: fallback to use tag 0x31637661/'avc1'\n",
      "\n",
      "Failed to load OpenH264 library: openh264-1.8.0-win64.dll\n",
      "\tPlease check environment and/or download library: https://github.com/cisco/openh264/releases\n",
      "\n",
      "[libopenh264 @ 000001a1c35cd480] Incorrect library version loaded\n",
      "[ERROR:0@1.397] global cap_ffmpeg_impl.hpp:3194 open Could not open codec libopenh264, error: Unspecified error (-22)\n",
      "[ERROR:0@1.397] global cap_ffmpeg_impl.hpp:3211 open VIDEOIO/FFMPEG: Failed to initialize VideoWriter\n",
      "Checking input ...\n",
      "Loading YOLO model..\n",
      "Loading pose model from pretrained_models/multi_domain_fast50_dcn_combined_256x192.pth...\n",
      "loading reid model from C:\\Users\\ldesa\\Desktop\\Spectra\\motion\\src\\trackers\\weights\\osnet_ain_x1_0_msmt17_256x128_amsgrad_ep50_lr0.0015_coslr_b64_fb10_softmax_labsmth_flip_jitter.pth...\n",
      "\n",
      "  0%|          | 0/148 [00:00<?, ?it/s]\n",
      "  1%|          | 1/148 [00:00<00:35,  4.14it/s]\n",
      "  1%|1         | 2/148 [00:00<00:24,  5.88it/s]\n",
      "  2%|2         | 3/148 [00:00<00:21,  6.76it/s]\n",
      "  3%|2         | 4/148 [00:00<00:19,  7.35it/s]\n",
      "  3%|3         | 5/148 [00:00<00:18,  7.56it/s]\n",
      "  4%|4         | 6/148 [00:00<00:18,  7.80it/s]\n",
      "  5%|4         | 7/148 [00:00<00:17,  8.02it/s]\n",
      "  5%|5         | 8/148 [00:01<00:17,  8.01it/s]\n",
      "  6%|6         | 9/148 [00:01<00:17,  8.05it/s]\n",
      "  7%|6         | 10/148 [00:01<00:16,  8.17it/s]\n",
      "  7%|7         | 11/148 [00:01<00:16,  8.12it/s]\n",
      "  8%|8         | 12/148 [00:01<00:16,  8.22it/s]\n",
      "  9%|8         | 13/148 [00:01<00:16,  8.25it/s]\n",
      "  9%|9         | 14/148 [00:01<00:16,  8.20it/s]\n",
      " 10%|#         | 15/148 [00:01<00:16,  7.94it/s]\n",
      " 11%|#         | 16/148 [00:02<00:16,  7.93it/s]\n",
      " 11%|#1        | 17/148 [00:02<00:16,  7.99it/s]\n",
      " 12%|#2        | 18/148 [00:02<00:15,  8.17it/s]\n",
      " 13%|#2        | 19/148 [00:02<00:17,  7.52it/s]\n",
      " 14%|#3        | 20/148 [00:02<00:16,  7.63it/s]\n",
      " 14%|#4        | 21/148 [00:02<00:15,  7.96it/s]\n",
      " 15%|#4        | 22/148 [00:02<00:15,  8.21it/s]\n",
      " 16%|#6        | 24/148 [00:03<00:13,  9.50it/s]\n",
      " 18%|#7        | 26/148 [00:03<00:11, 10.32it/s]\n",
      " 19%|#8        | 28/148 [00:03<00:11, 10.87it/s]\n",
      " 20%|##        | 30/148 [00:03<00:10, 11.11it/s]\n",
      " 22%|##1       | 32/148 [00:03<00:10, 11.33it/s]\n",
      " 23%|##2       | 34/148 [00:03<00:09, 11.42it/s]\n",
      " 24%|##4       | 36/148 [00:04<00:09, 11.31it/s]\n",
      " 26%|##5       | 38/148 [00:04<00:09, 11.42it/s]\n",
      " 27%|##7       | 40/148 [00:04<00:09, 11.56it/s]\n",
      " 28%|##8       | 42/148 [00:04<00:09, 11.64it/s]\n",
      " 30%|##9       | 44/148 [00:04<00:08, 11.70it/s]\n",
      " 31%|###1      | 46/148 [00:04<00:08, 11.70it/s]\n",
      " 32%|###2      | 48/148 [00:05<00:08, 11.59it/s]\n",
      " 34%|###3      | 50/148 [00:05<00:08, 11.75it/s]\n",
      " 35%|###5      | 52/148 [00:05<00:08, 11.83it/s]\n",
      " 36%|###6      | 54/148 [00:05<00:07, 11.83it/s]\n",
      " 38%|###7      | 56/148 [00:05<00:07, 11.76it/s]\n",
      " 39%|###9      | 58/148 [00:05<00:07, 11.92it/s]\n",
      " 41%|####      | 60/148 [00:06<00:07, 11.90it/s]\n",
      " 42%|####1     | 62/148 [00:06<00:07, 11.88it/s]\n",
      " 43%|####3     | 64/148 [00:06<00:06, 12.02it/s]\n",
      " 45%|####4     | 66/148 [00:06<00:06, 11.93it/s]\n",
      " 46%|####5     | 68/148 [00:06<00:06, 11.81it/s]\n",
      " 47%|####7     | 70/148 [00:06<00:06, 11.93it/s]\n",
      " 49%|####8     | 72/148 [00:07<00:06, 11.82it/s]\n",
      " 50%|#####     | 74/148 [00:07<00:06, 11.74it/s]\n",
      " 51%|#####1    | 76/148 [00:07<00:06, 11.86it/s]\n",
      " 53%|#####2    | 78/148 [00:07<00:05, 11.75it/s]\n",
      " 54%|#####4    | 80/148 [00:07<00:05, 11.68it/s]\n",
      " 55%|#####5    | 82/148 [00:07<00:05, 11.87it/s]\n",
      " 57%|#####6    | 84/148 [00:08<00:05, 11.67it/s]\n",
      " 58%|#####8    | 86/148 [00:08<00:05, 11.71it/s]\n",
      " 59%|#####9    | 88/148 [00:08<00:05, 11.76it/s]\n",
      " 61%|######    | 90/148 [00:08<00:04, 11.73it/s]\n",
      " 62%|######2   | 92/148 [00:08<00:04, 11.79it/s]\n",
      " 64%|######3   | 94/148 [00:08<00:04, 11.81it/s]\n",
      " 65%|######4   | 96/148 [00:09<00:04, 11.90it/s]\n",
      " 66%|######6   | 98/148 [00:09<00:04, 11.89it/s]\n",
      " 68%|######7   | 100/148 [00:09<00:04, 11.63it/s]\n",
      " 69%|######8   | 102/148 [00:09<00:04, 11.25it/s]\n",
      " 70%|#######   | 104/148 [00:09<00:04, 10.76it/s]\n",
      " 72%|#######1  | 106/148 [00:10<00:03, 10.82it/s]\n",
      " 73%|#######2  | 108/148 [00:10<00:03, 10.82it/s]\n",
      " 74%|#######4  | 110/148 [00:10<00:03, 10.70it/s]\n",
      " 76%|#######5  | 112/148 [00:10<00:03, 10.80it/s]\n",
      " 77%|#######7  | 114/148 [00:10<00:03, 10.73it/s]\n",
      " 78%|#######8  | 116/148 [00:10<00:02, 10.67it/s]\n",
      " 80%|#######9  | 118/148 [00:11<00:02, 10.64it/s]\n",
      " 81%|########1 | 120/148 [00:11<00:02, 11.03it/s]\n",
      " 82%|########2 | 122/148 [00:11<00:02, 12.25it/s]\n",
      " 84%|########3 | 124/148 [00:11<00:01, 12.95it/s]\n",
      " 85%|########5 | 126/148 [00:11<00:01, 13.48it/s]\n",
      " 86%|########6 | 128/148 [00:11<00:01, 14.09it/s]\n",
      " 88%|########7 | 130/148 [00:11<00:01, 14.00it/s]\n",
      " 89%|########9 | 132/148 [00:12<00:01, 14.15it/s]\n",
      " 91%|######### | 134/148 [00:12<00:00, 14.69it/s]\n",
      " 92%|#########1| 136/148 [00:12<00:00, 14.82it/s]\n",
      " 93%|#########3| 138/148 [00:12<00:00, 14.75it/s]\n",
      " 95%|#########4| 140/148 [00:12<00:00, 14.40it/s]\n",
      " 96%|#########5| 142/148 [00:12<00:00, 14.52it/s]\n",
      " 97%|#########7| 144/148 [00:12<00:00, 14.71it/s]\n",
      " 99%|#########8| 146/148 [00:13<00:00, 14.67it/s]\n",
      "100%|##########| 148/148 [00:13<00:00, 15.01it/s]\n",
      "100%|##########| 148/148 [00:13<00:00, 11.22it/s]\n",
      "===========================> Finish Model Running.\n",
      "===========================> Rendering remaining images in the queue...\n",
      "===========================> If this step takes too long, you can enable the --vis_fast flag to use fast rendering (real-time).\n",
      "===========================> Rendering remaining 114 images in the queue...\n",
      "===========================> Rendering remaining 107 images in the queue...\n",
      "===========================> Rendering remaining 101 images in the queue...\n",
      "===========================> Rendering remaining 95 images in the queue...\n",
      "===========================> Rendering remaining 88 images in the queue...\n",
      "===========================> Rendering remaining 82 images in the queue...\n",
      "===========================> Rendering remaining 75 images in the queue...\n",
      "===========================> Rendering remaining 68 images in the queue...\n",
      "===========================> Rendering remaining 61 images in the queue...\n",
      "===========================> Rendering remaining 54 images in the queue...\n",
      "===========================> Rendering remaining 47 images in the queue...\n",
      "===========================> Rendering remaining 40 images in the queue...\n",
      "===========================> Rendering remaining 33 images in the queue...\n",
      "===========================> Rendering remaining 25 images in the queue...\n",
      "===========================> Rendering remaining 16 images in the queue...\n",
      "===========================> Rendering remaining 8 images in the queue...\n",
      "===========================> Rendering remaining 1 images in the queue...\n",
      "===========================> Rendering remaining 0 images in the queue...\n",
      "Results have been written to json.\n",
      "\n",
      "Comando eseguito con successo per C:\\Users\\ldesa\\Desktop\\Spectra\\motion\\data\\test\\samples\\es10_t.mp4.\n",
      "\n",
      "Elaborazione completata!\n"
     ]
    }
   ],
   "execution_count": 4
  }
 ],
 "metadata": {
  "colab": {
   "provenance": []
  },
  "kernelspec": {
   "display_name": "Python 3 (ipykernel)",
   "language": "python",
   "name": "python3"
  },
  "language_info": {
   "codemirror_mode": {
    "name": "ipython",
    "version": 3
   },
   "file_extension": ".py",
   "mimetype": "text/x-python",
   "name": "python",
   "nbconvert_exporter": "python",
   "pygments_lexer": "ipython3",
   "version": "3.9.16"
  }
 },
 "nbformat": 4,
 "nbformat_minor": 4
}
