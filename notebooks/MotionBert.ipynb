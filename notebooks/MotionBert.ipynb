{
 "cells": [
  {
   "cell_type": "markdown",
   "metadata": {
    "id": "ZMUdgWmTFWEs"
   },
   "source": [
    "# Pose 3D recontruction with MotionBert\n",
    "\n",
    "\n",
    "## Install Motion Bert"
   ]
  },
  {
   "metadata": {
    "ExecuteTime": {
     "end_time": "2025-01-10T20:28:07.129992Z",
     "start_time": "2025-01-10T20:28:05.147836Z"
    }
   },
   "cell_type": "code",
   "source": [
    "import torch\n",
    "import os\n",
    "from os.path import exists, join\n",
    "from pathlib import Path\n",
    "import subprocess\n",
    "from pathlib import Path\n",
    "import sys\n",
    "import threading\n",
    "import torchvision\n",
    "\n",
    "print(torch.__version__)\n",
    "print(torch.__version__)\n",
    "\n",
    "import sys\n",
    "python_executable = sys.executable"
   ],
   "outputs": [
    {
     "name": "stdout",
     "output_type": "stream",
     "text": [
      "2.5.1+cu124\n",
      "2.5.1+cu124\n"
     ]
    }
   ],
   "execution_count": 1
  },
  {
   "metadata": {
    "ExecuteTime": {
     "end_time": "2025-01-10T20:28:19.009920Z",
     "start_time": "2025-01-10T20:28:19.002012Z"
    }
   },
   "cell_type": "code",
   "source": [
    "project_name='MotionBERT'\n",
    "project_path=os.path.join(os.path.realpath('../models/'),project_name)\n",
    "scripts_path=os.path.join(os.path.realpath('../models/'),project_name,'scripts')\n",
    "script_path=os.path.join(scripts_path,'demo_inference.py')\n",
    "\n",
    "data_path=os.path.join(os.path.realpath('../data/'))\n",
    "test_path=join(data_path,'test')\n",
    "\n",
    "input_path=join(test_path,'samples')\n",
    "output_path=join(test_path,'2D')\n",
    "\n",
    "print(script_path)\n",
    "print(input_path)\n",
    "print(output_path)"
   ],
   "outputs": [
    {
     "name": "stdout",
     "output_type": "stream",
     "text": [
      "C:\\Users\\ldesa\\Desktop\\Spectra\\motion\\models\\MotionBERT\\scripts\\demo_inference.py\n",
      "C:\\Users\\ldesa\\Desktop\\Spectra\\motion\\data\\test\\samples\n",
      "C:\\Users\\ldesa\\Desktop\\Spectra\\motion\\data\\test\\2D\n"
     ]
    }
   ],
   "execution_count": 3
  },
  {
   "cell_type": "code",
   "execution_count": 2,
   "metadata": {
    "colab": {
     "base_uri": "https://localhost:8080/"
    },
    "executionInfo": {
     "elapsed": 12519,
     "status": "ok",
     "timestamp": 1711290034912,
     "user": {
      "displayName": "LAURA DE SANTIS",
      "userId": "11305514146194635349"
     },
     "user_tz": -60
    },
    "id": "6UCKJIMIisWo",
    "outputId": "bcd1ce84-d1f4-4bce-9315-4f371fd4c7b8"
   },
   "outputs": [
    {
     "name": "stdout",
     "output_type": "stream",
     "text": [
      "Drive already mounted at /content/drive; to attempt to forcibly remount, call drive.mount(\"/content/drive\", force_remount=True).\n"
     ]
    }
   ],
   "source": [
    "import shutil\n",
    "import os\n",
    "import sys\n",
    "from os.path import exists, join, basename, splitext\n",
    "import time\n",
    "import matplotlib\n",
    "import io\n",
    "import base64\n",
    "from IPython.display import HTML\n",
    "\n",
    "\n",
    "basepath='../models/'\n",
    "project_name='MotionBERT'\n",
    "os.chdir(join(basepath_drive,project_name))\n",
    "sys.path.append(project_name)\n",
    "test_path=join(basepath_drive,'Esperimenti')\n",
    "samples_path=join(test_path,'samples')\n",
    "processed_path=join(test_path,'processed')\n",
    "processed_3d_path=join(test_path,'processed_3d')\n",
    "processed_mesh_path=join(test_path,'processed_mesh')\n",
    "\n",
    "\n",
    "def show_local_mp4_video(file_name, width=640, height=480):\n",
    "  video_encoded = base64.b64encode(io.open(file_name, 'rb').read())\n",
    "  return HTML(data='''<video width=\"{0}\" height=\"{1}\" alt=\"test\" controls>\n",
    "                        <source src=\"data:video/mp4;base64,{2}\" type=\"video/mp4\" />\n",
    "                      </video>'''.format(width, height, video_encoded.decode('ascii')))\n",
    "\n",
    "# install dependencies\n",
    "!pip install -q -r requirements.txt\n",
    "!pip install numpy==1.23"
   ]
  },
  {
   "cell_type": "markdown",
   "metadata": {
    "id": "fMJI7RgmF_xO"
   },
   "source": [
    "# Apply MotionBert to test video\n"
   ]
  },
  {
   "cell_type": "code",
   "execution_count": null,
   "metadata": {
    "id": "i6i9yk1gezn1"
   },
   "outputs": [],
   "source": [
    "vid_name='es2_t'\n",
    "\n",
    "vid_path=join(samples_path,vid_name+'.mp4')\n",
    "json_path=join(processed_path,vid_name+'-results.json')\n",
    "processed_3d_res=join(processed_3d_path,vid_name+'_3D.npy')\n"
   ]
  },
  {
   "cell_type": "markdown",
   "metadata": {
    "id": "MJblYRLkGTU2"
   },
   "source": [
    "## 3D POSE reconstruction on sample video - MB lite:\n",
    "\n",
    "---\n",
    "\n"
   ]
  },
  {
   "cell_type": "code",
   "execution_count": null,
   "metadata": {
    "id": "1kfdBLCl8Zxc"
   },
   "outputs": [],
   "source": [
    "!python infer_wild.py -kpn --vid_path $vid_path --json_path $json_path --out_path $processed_3d_path\n",
    "show_local_mp4_video(join(processed_3d_path,vid_name+'_3D.mp4'), width=620, height=480)"
   ]
  },
  {
   "cell_type": "markdown",
   "metadata": {
    "id": "KSFfSIMFFzvr"
   },
   "source": [
    "## ACTION RECOGNITION on sample video\n",
    "\n",
    "---"
   ]
  },
  {
   "cell_type": "code",
   "execution_count": null,
   "metadata": {
    "colab": {
     "base_uri": "https://localhost:8080/"
    },
    "executionInfo": {
     "elapsed": 29146,
     "status": "ok",
     "timestamp": 1710535332769,
     "user": {
      "displayName": "LAURA DE SANTIS",
      "userId": "11305514146194635349"
     },
     "user_tz": -60
    },
    "id": "-PlD9BpHD6l7",
    "outputId": "5eabc51c-e960-4a76-9c14-b638c88e123d"
   },
   "outputs": [
    {
     "name": "stdout",
     "output_type": "stream",
     "text": [
      "Loading sample\n",
      "Loading model\n",
      "Loading checkpoint checkpoint/action/MB_train_NTU60_xsub/best_epoch.bin\n",
      "Starting infrerence\n",
      "\n",
      "\u001B[1mPredicted class:\u001B[0m \u001B[92mstaggering\u001B[0m\n"
     ]
    }
   ],
   "source": [
    "config='configs/action/MB_train_NTU60_xsub.yaml'\n",
    "evaluate='checkpoint/action/MB_train_NTU60_xsub/best_epoch.bin'\n",
    "!python infer_wild_action.py --vid_path $vid_path --json_path $json_path --config $config --evaluate $evaluate"
   ]
  }
 ],
 "metadata": {
  "colab": {
   "provenance": []
  },
  "kernelspec": {
   "display_name": "Python 3 (ipykernel)",
   "language": "python",
   "name": "python3"
  },
  "language_info": {
   "codemirror_mode": {
    "name": "ipython",
    "version": 3
   },
   "file_extension": ".py",
   "mimetype": "text/x-python",
   "name": "python",
   "nbconvert_exporter": "python",
   "pygments_lexer": "ipython3",
   "version": "3.9.16"
  }
 },
 "nbformat": 4,
 "nbformat_minor": 4
}
