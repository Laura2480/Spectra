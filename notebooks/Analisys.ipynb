{
 "cells": [
  {
   "cell_type": "code",
   "execution_count": 1,
   "metadata": {
    "colab": {
     "base_uri": "https://localhost:8080/"
    },
    "executionInfo": {
     "elapsed": 42521,
     "status": "ok",
     "timestamp": 1711301145822,
     "user": {
      "displayName": "LAURA DE SANTIS",
      "userId": "11305514146194635349"
     },
     "user_tz": -60
    },
    "id": "7zqs-CIGTUYs",
    "outputId": "3098f331-05b0-4a6e-fcd2-9a5422e9bc4d"
   },
   "outputs": [
    {
     "name": "stdout",
     "output_type": "stream",
     "text": [
      "\u001b[2K     \u001b[90m━━━━━━━━━━━━━━━━━━━━━━━━━━━━━━━━━━━━━━━━\u001b[0m \u001b[32m538.2/538.2 kB\u001b[0m \u001b[31m7.1 MB/s\u001b[0m eta \u001b[36m0:00:00\u001b[0m00:01\u001b[0m00:01\u001b[0m\n",
      "\u001b[?25hMounted at /content/drive\n"
     ]
    }
   ],
   "source": [
    "!pip install -q shap\n",
    "import shutil\n",
    "import os\n",
    "import sys\n",
    "import base64\n",
    "import pickle\n",
    "import shap\n",
    "import numpy as np\n",
    "from os.path import exists, join, basename, splitext\n",
    "import time\n",
    "import matplotlib\n",
    "from matplotlib.cm import ScalarMappable\n",
    "from matplotlib.colors import Normalize\n",
    "import matplotlib.pyplot as pyplt\n",
    "\n",
    "basepath_drive='/notebooks/Spectra/'\n",
    "os.chdir(join(basepath_drive,'Analisys'))\n",
    "from utils import *\n",
    "test_path=join(basepath_drive,'Esperimenti')\n",
    "samples_path=join(test_path,'samples')\n",
    "processed_path=join(test_path,'processed')\n",
    "processed_3d_path=join(test_path,'processed_3d')\n",
    "shap_path=join(test_path,'shap/shap_est_1_n_samples_2450_n_evals_10000.pkl')\n",
    "with open(shap_path, 'rb') as file:\n",
    "   shap_values  = pickle.load(file)\n",
    "shap_values.values = [val for val in np.moveaxis(shap_values.values[0], -1, 0)]\n",
    "shap_values.values = [ v[None,...] for v in shap_values.values ]\n",
    "top1=[shap_values.values[0]]\n",
    "motion=np.load(join(processed_3d_path,'es1_t_3D.npy'))"
   ]
  },
  {
   "cell_type": "code",
   "execution_count": null,
   "metadata": {
    "id": "p2yYP8DPsp7r"
   },
   "outputs": [],
   "source": [
    "index=np.array([80 ,100,120,140 ])\n",
    "fig_size=20\n",
    "delta=0.1\n",
    "mono=True\n",
    "video_path_2d = join(processed_path,'es1_t_processed.mp4')\n",
    "extract_2d_frames(motion,top1[0][0],index,video_path_2d,fig_size=fig_size,delta=delta,mono=mono)\n",
    "video_path_3d = join(processed_path,'es1_t_processed.mp4')\n",
    "extract_3d_frames(motion,top1[0][0],index,video_path_3d,azim=45,fig_size=fig_size,delta=2*delta,mono=mono)"
   ]
  },
  {
   "cell_type": "code",
   "execution_count": null,
   "metadata": {
    "id": "K_l6UD_O3Mqt"
   },
   "outputs": [],
   "source": [
    "class_names=get_action_names()\n",
    "\n",
    "reduced_channel = top1[0][0].sum(-1)\n",
    "index=top_n_indices(reduced_channel,3)\n",
    "index.sort()\n",
    "\n",
    "shap.image_plot(\n",
    "    shap_values=[np.transpose(top1[0], (0,2,1,3))],\n",
    "    pixel_values=np.transpose(((shap_values.data+1)/2),(0,2,1,3)),\n",
    "    labels=shap_values.output_names,\n",
    "    true_labels=[class_names[41]],\n",
    "    show=False)\n",
    "\n",
    "fig = pyplt.gcf()\n",
    "\n",
    "_, h = fig.get_size_inches()\n",
    "fig.set_size_inches(2*h, h)\n",
    "h = fig.get_figheight()\n",
    "fig.set_figheight(2*h)\n",
    "h = fig.get_figwidth()\n",
    "fig.set_figwidth(2*h)\n",
    "\n",
    "axs=fig.get_axes()\n",
    "pyplt.delaxes(axs[0])\n",
    "axs[1].set_aspect(5)\n",
    "axs[1].set_position([0.16, 0.3, 0.7, 1])\n",
    "axs[1].axis('on')\n",
    "axs[1].spines[:].set_visible(False)\n",
    "axs[1].yaxis.set_major_locator(MultipleLocator(1))\n",
    "axs[1].set_yticklabels([H36_map[i] for i in range(17)])\n",
    "axs[1].set_position([0.16, 0.3, 0.7, 1])\n",
    "class_pred=axs[1].get_title()\n",
    "axs[1].set_title(f'\\nPredicted class: {class_pred}\\n',fontsize=36)\n",
    "pyplt.show()\n",
    "\n",
    "video_path = join(processed_path,'es1_t_processed.mp4')\n",
    "apply_shap_on_3d(motion,top1[0][0],index,video_path,azim=80,fig_size=20)"
   ]
  }
 ],
 "metadata": {
  "colab": {
   "provenance": []
  },
  "kernelspec": {
   "display_name": "Python 3 (ipykernel)",
   "language": "python",
   "name": "python3"
  },
  "language_info": {
   "codemirror_mode": {
    "name": "ipython",
    "version": 3
   },
   "file_extension": ".py",
   "mimetype": "text/x-python",
   "name": "python",
   "nbconvert_exporter": "python",
   "pygments_lexer": "ipython3",
   "version": "3.9.16"
  }
 },
 "nbformat": 4,
 "nbformat_minor": 4
}
